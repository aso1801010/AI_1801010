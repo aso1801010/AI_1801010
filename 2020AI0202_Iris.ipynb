{
  "nbformat": 4,
  "nbformat_minor": 0,
  "metadata": {
    "colab": {
      "name": "2020AI0202-Iris.ipynb",
      "provenance": [],
      "authorship_tag": "ABX9TyOaQMhOpnV9Kk7P0XZkMoOV",
      "include_colab_link": true
    },
    "kernelspec": {
      "name": "python3",
      "display_name": "Python 3"
    }
  },
  "cells": [
    {
      "cell_type": "markdown",
      "metadata": {
        "id": "view-in-github",
        "colab_type": "text"
      },
      "source": [
        "<a href=\"https://colab.research.google.com/github/aso1801010/AI_1801010/blob/master/2020AI0202_Iris.ipynb\" target=\"_parent\"><img src=\"https://colab.research.google.com/assets/colab-badge.svg\" alt=\"Open In Colab\"/></a>"
      ]
    },
    {
      "cell_type": "markdown",
      "metadata": {
        "id": "C5Sxc-6lNCWh"
      },
      "source": [
        "### URLオブジェクトを使ってファイルをリンクから保存"
      ]
    },
    {
      "cell_type": "code",
      "metadata": {
        "id": "YeEkhh3INIMB"
      },
      "source": [
        "# urlライブラリのrewuestクラスをreqという別名でimport\n",
        "import urllib.request as req\n",
        "# pandas ライブラリをpdという別名で import\n",
        "import pandas as pd"
      ],
      "execution_count": 2,
      "outputs": []
    },
    {
      "cell_type": "code",
      "metadata": {
        "id": "VqwSNHUtNP5n",
        "colab": {
          "base_uri": "https://localhost:8080/"
        },
        "outputId": "1af5a7e1-dc8a-4cb5-c402-a0e2a3ec76a1"
      },
      "source": [
        "# urlという名前のオブジェクト変数を定義\n",
        "url =\"https://github.com/pandas-dev/pandas/raw/master/pandas/tests/io/data/csv/iris.csv\"\n",
        "# リンクから保存するためのファイル名を定義\n",
        "savefile =\"iris.csv\"\n",
        "#requestクラスを使ってurlからデータをsavefileへコピー\n",
        "req.urlretrieve(url, savefile)\n",
        "print(\"保存しました\")"
      ],
      "execution_count": 3,
      "outputs": [
        {
          "output_type": "stream",
          "text": [
            "保存しました\n"
          ],
          "name": "stdout"
        }
      ]
    },
    {
      "cell_type": "code",
      "metadata": {
        "id": "x3pP0MBDOanb"
      },
      "source": [
        ""
      ],
      "execution_count": null,
      "outputs": []
    },
    {
      "cell_type": "markdown",
      "metadata": {
        "id": "hu7kdFCKP5uo"
      },
      "source": [
        "###保存したcsvファイルをメモリ上に読み込んで画面に表示させる"
      ]
    },
    {
      "cell_type": "markdown",
      "metadata": {
        "id": "x6dewCn9P5tz"
      },
      "source": [
        ""
      ]
    },
    {
      "cell_type": "code",
      "metadata": {
        "id": "068qijt7QE4x"
      },
      "source": [
        "# pandas の read_csv メソッドを使ってCSVファイルを読み込む\n",
        "iris_data = pd.read_csv(savefile, encoding=\"utf-8\")"
      ],
      "execution_count": 4,
      "outputs": []
    },
    {
      "cell_type": "code",
      "metadata": {
        "id": "EyY0XweaQhUK"
      },
      "source": [
        ""
      ],
      "execution_count": null,
      "outputs": []
    },
    {
      "cell_type": "markdown",
      "metadata": {
        "id": "8OPIGd7iWdSc"
      },
      "source": [
        "###  機械学習のライブラリを読み込む"
      ]
    },
    {
      "cell_type": "code",
      "metadata": {
        "id": "i_4WF_UxXeTJ"
      },
      "source": [
        "# 機械学習のデータを学習用とテスト用とに分けるためのクラス\r\n",
        "from sklearn.model_selection import train_test_split\r\n",
        "# サポートベクターマシン（SVM）のSVCアルゴリズムのクラス\r\n",
        "from sklearn.svm import SVC\r\n",
        "# テストの評価用クラス\r\n",
        "from sklearn.metrics import accuracy_score"
      ],
      "execution_count": 5,
      "outputs": []
    },
    {
      "cell_type": "code",
      "metadata": {
        "id": "LFyMtOsLYnRr"
      },
      "source": [
        ""
      ],
      "execution_count": null,
      "outputs": []
    },
    {
      "cell_type": "markdown",
      "metadata": {
        "id": "KiQMHQtnYpnC"
      },
      "source": [
        "##アヤメのCSVデータを正解（ラベル）と入力用データに分離する"
      ]
    },
    {
      "cell_type": "code",
      "metadata": {
        "id": "NEvCA_w0YqYu"
      },
      "source": [
        ""
      ],
      "execution_count": null,
      "outputs": []
    },
    {
      "cell_type": "markdown",
      "metadata": {
        "id": "1igd9RJgYuNw"
      },
      "source": [
        "###列を分ける"
      ]
    },
    {
      "cell_type": "code",
      "metadata": {
        "colab": {
          "base_uri": "https://localhost:8080/"
        },
        "id": "Vp1FudobYvDT",
        "outputId": "706f1ae7-407b-4f58-f6e3-9e7e7a45f314"
      },
      "source": [
        "# pythonのリスト切り出しを使って表を縦に分割する\r\n",
        "# yに右一列（\"Name\"の列）だけを切り取って代入\r\n",
        "y = iris_data.loc[:, \"Name\"]\r\n",
        "print(y)"
      ],
      "execution_count": 6,
      "outputs": [
        {
          "output_type": "stream",
          "text": [
            "0         Iris-setosa\n",
            "1         Iris-setosa\n",
            "2         Iris-setosa\n",
            "3         Iris-setosa\n",
            "4         Iris-setosa\n",
            "            ...      \n",
            "145    Iris-virginica\n",
            "146    Iris-virginica\n",
            "147    Iris-virginica\n",
            "148    Iris-virginica\n",
            "149    Iris-virginica\n",
            "Name: Name, Length: 150, dtype: object\n"
          ],
          "name": "stdout"
        }
      ]
    },
    {
      "cell_type": "code",
      "metadata": {
        "colab": {
          "base_uri": "https://localhost:8080/"
        },
        "id": "A8dlJfYdYxtE",
        "outputId": "75f3a3ef-8b3f-4577-a61c-fee70be5d18e"
      },
      "source": [
        "# xに左４列のデータを切り取って代入\r\n",
        "x = iris_data.loc[ :, [ \"SepalLength\", \"SepalWidth\", \"PetalLength\", \"PetalWidth\" ] ]\r\n",
        "print(x)"
      ],
      "execution_count": 7,
      "outputs": [
        {
          "output_type": "stream",
          "text": [
            "     SepalLength  SepalWidth  PetalLength  PetalWidth\n",
            "0            5.1         3.5          1.4         0.2\n",
            "1            4.9         3.0          1.4         0.2\n",
            "2            4.7         3.2          1.3         0.2\n",
            "3            4.6         3.1          1.5         0.2\n",
            "4            5.0         3.6          1.4         0.2\n",
            "..           ...         ...          ...         ...\n",
            "145          6.7         3.0          5.2         2.3\n",
            "146          6.3         2.5          5.0         1.9\n",
            "147          6.5         3.0          5.2         2.0\n",
            "148          6.2         3.4          5.4         2.3\n",
            "149          5.9         3.0          5.1         1.8\n",
            "\n",
            "[150 rows x 4 columns]\n"
          ],
          "name": "stdout"
        }
      ]
    },
    {
      "cell_type": "code",
      "metadata": {
        "id": "Ok_fltOxY2pR"
      },
      "source": [
        ""
      ],
      "execution_count": null,
      "outputs": []
    },
    {
      "cell_type": "markdown",
      "metadata": {
        "id": "xSATCsBmY5Ni"
      },
      "source": [
        "##xデータも、yデータも、学習用に使うデータと、テスト検証用に使うデータに分けておく"
      ]
    },
    {
      "cell_type": "code",
      "metadata": {
        "id": "ZVf_gU6mY6V1"
      },
      "source": [
        "# train_test_split を使って、xもyも trainデータとtestデータにランダムに分ける(shuffle)\r\n",
        "# 比率はtest=0.2, train=0.8で x_train, y_train, x_test, y_testという変数に代入する\r\n",
        "x_train, x_test, y_train, y_test = train_test_split(x, y, test_size=0.2, train_size=0.8, shuffle=True)"
      ],
      "execution_count": 8,
      "outputs": []
    },
    {
      "cell_type": "code",
      "metadata": {
        "id": "7gDfVBSAY8uz"
      },
      "source": [
        ""
      ],
      "execution_count": null,
      "outputs": []
    },
    {
      "cell_type": "markdown",
      "metadata": {
        "id": "JRgHf0H4Y--l"
      },
      "source": [
        "##Xtrain（学習用入力データ）、Ytrain(学習用正解データ)を使ってモデルを学習させる"
      ]
    },
    {
      "cell_type": "code",
      "metadata": {
        "id": "MbSghhvBZAG5"
      },
      "source": [
        "# SVCアルゴリズムの学習モデルのインスタンスを生成\r\n",
        "clf = SVC()"
      ],
      "execution_count": 10,
      "outputs": []
    },
    {
      "cell_type": "code",
      "metadata": {
        "colab": {
          "base_uri": "https://localhost:8080/"
        },
        "id": "mANvkxVyZD5g",
        "outputId": "d8922300-73da-4910-dc6d-df21cb66b740"
      },
      "source": [
        "# SVCアルゴリズムの学習モデルに学習用の入力データと正解データを引き渡して学習させる\r\n",
        "clf.fit(x_train, y_train)"
      ],
      "execution_count": 11,
      "outputs": [
        {
          "output_type": "execute_result",
          "data": {
            "text/plain": [
              "SVC(C=1.0, break_ties=False, cache_size=200, class_weight=None, coef0=0.0,\n",
              "    decision_function_shape='ovr', degree=3, gamma='scale', kernel='rbf',\n",
              "    max_iter=-1, probability=False, random_state=None, shrinking=True,\n",
              "    tol=0.001, verbose=False)"
            ]
          },
          "metadata": {
            "tags": []
          },
          "execution_count": 11
        }
      ]
    },
    {
      "cell_type": "code",
      "metadata": {
        "id": "Ty99V2XcZISm"
      },
      "source": [
        ""
      ],
      "execution_count": null,
      "outputs": []
    },
    {
      "cell_type": "markdown",
      "metadata": {
        "id": "VLncFlyeZMg3"
      },
      "source": [
        "##学習がうまくいったかを検証して評価する"
      ]
    },
    {
      "cell_type": "markdown",
      "metadata": {
        "id": "WiAF9cIdZQtW"
      },
      "source": [
        ""
      ]
    },
    {
      "cell_type": "markdown",
      "metadata": {
        "id": "2J_qObJ8ZQuk"
      },
      "source": [
        "##x_testデータを使って推論させた結果(y_pred)と本来の正解データ(y_test)を比較して推論がどれくらいの割合正解しているかを評価する"
      ]
    },
    {
      "cell_type": "code",
      "metadata": {
        "colab": {
          "base_uri": "https://localhost:8080/"
        },
        "id": "7Wte1tydZRlo",
        "outputId": "38fda8e4-9bf0-4f88-dc8a-3217f3a3c8f7"
      },
      "source": [
        "# x_testデータを使って学習モデルclfに推論させる（結果は変数predに代入）\r\n",
        "y_pred = clf.predict(x_test)\r\n",
        "# accuracy_scoreでy_predとy_testを比較する\r\n",
        "print(\"正解率 = \" , accuracy_score(y_test, y_pred) )"
      ],
      "execution_count": 12,
      "outputs": [
        {
          "output_type": "stream",
          "text": [
            "正解率 =  1.0\n"
          ],
          "name": "stdout"
        }
      ]
    },
    {
      "cell_type": "code",
      "metadata": {
        "id": "NQLV6TVtZVF7"
      },
      "source": [
        ""
      ],
      "execution_count": null,
      "outputs": []
    }
  ]
}