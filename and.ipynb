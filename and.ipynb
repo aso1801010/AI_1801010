{
  "nbformat": 4,
  "nbformat_minor": 0,
  "metadata": {
    "colab": {
      "name": "and.ipynb",
      "provenance": [],
      "authorship_tag": "ABX9TyP6CPIZktg/ckz982IdxItW",
      "include_colab_link": true
    },
    "kernelspec": {
      "name": "python3",
      "display_name": "Python 3"
    }
  },
  "cells": [
    {
      "cell_type": "markdown",
      "metadata": {
        "id": "view-in-github",
        "colab_type": "text"
      },
      "source": [
        "<a href=\"https://colab.research.google.com/github/aso1801010/AI_1801010/blob/master/and.ipynb\" target=\"_parent\"><img src=\"https://colab.research.google.com/assets/colab-badge.svg\" alt=\"Open In Colab\"/></a>"
      ]
    },
    {
      "cell_type": "markdown",
      "metadata": {
        "id": "KH2jtJ7rqNjh"
      },
      "source": [
        ""
      ]
    },
    {
      "cell_type": "markdown",
      "metadata": {
        "id": "GQjFJQrjqQba"
      },
      "source": [
        "### AND演算をモデルに学ばせる (LinearSVC)"
      ]
    },
    {
      "cell_type": "code",
      "metadata": {
        "id": "YLUxs09hqFzB"
      },
      "source": [
        "# scikit-learnを使うため、インポートする\n",
        "from sklearn.svm import LinearSVC #線形SVCのオブジェクト\n",
        "from sklearn.metrics import accuracy_score # 結果を評価するためのオブジェクト"
      ],
      "execution_count": 1,
      "outputs": []
    },
    {
      "cell_type": "code",
      "metadata": {
        "id": "8R4lqNaFsMHU"
      },
      "source": [
        ""
      ],
      "execution_count": 1,
      "outputs": []
    },
    {
      "cell_type": "markdown",
      "metadata": {
        "id": "jiMvl8ARsTOF"
      },
      "source": [
        "### 学習のためのデータを用意する"
      ]
    },
    {
      "cell_type": "code",
      "metadata": {
        "id": "TxGTswdhsYFO"
      },
      "source": [
        "# 入力値をあらわすデータ\n",
        "# 入力X, 入力Y\n",
        "learn_data =[ [0,0],[1,0],[0,1],[1,1] ]\n",
        "# (XとYのand) 結果\n",
        "learn_label = [0,0,0,1]\n"
      ],
      "execution_count": 2,
      "outputs": []
    },
    {
      "cell_type": "code",
      "metadata": {
        "id": "h9toDmiktCtv"
      },
      "source": [
        ""
      ],
      "execution_count": 2,
      "outputs": []
    },
    {
      "cell_type": "markdown",
      "metadata": {
        "id": "Un1h1djAtDtc"
      },
      "source": [
        "### アルゴリズムのインスタンスを生成"
      ]
    },
    {
      "cell_type": "code",
      "metadata": {
        "id": "x-bgl5I5tHpa"
      },
      "source": [
        "### 線形SVCのインスタンスを生成　(= モデル)\n",
        "clf = LinearSVC()"
      ],
      "execution_count": 3,
      "outputs": []
    },
    {
      "cell_type": "code",
      "metadata": {
        "id": "LRw9joKLtRKe"
      },
      "source": [
        ""
      ],
      "execution_count": 3,
      "outputs": []
    },
    {
      "cell_type": "markdown",
      "metadata": {
        "id": "6q4_lb7ftRwU"
      },
      "source": [
        "### モデルに学習させる　(fitメソッド)"
      ]
    },
    {
      "cell_type": "code",
      "metadata": {
        "id": "fGmHAoTItW2T",
        "outputId": "9ace24b0-e6bc-42a6-9ca1-f5f432354f86",
        "colab": {
          "base_uri": "https://localhost:8080/",
          "height": 85
        }
      },
      "source": [
        "clf.fit( learn_data, learn_label )"
      ],
      "execution_count": 4,
      "outputs": [
        {
          "output_type": "execute_result",
          "data": {
            "text/plain": [
              "LinearSVC(C=1.0, class_weight=None, dual=True, fit_intercept=True,\n",
              "          intercept_scaling=1, loss='squared_hinge', max_iter=1000,\n",
              "          multi_class='ovr', penalty='l2', random_state=None, tol=0.0001,\n",
              "          verbose=0)"
            ]
          },
          "metadata": {
            "tags": []
          },
          "execution_count": 4
        }
      ]
    },
    {
      "cell_type": "markdown",
      "metadata": {
        "id": "R8Q_YewkuQtU"
      },
      "source": [
        "### モデルがちゃんと学習できたか、テストデータで、予測させてみる"
      ]
    },
    {
      "cell_type": "code",
      "metadata": {
        "id": "WaUQOiPNt2eO",
        "outputId": "a76e93d8-3a34-40ea-efe1-4a7c4dec80fb",
        "colab": {
          "base_uri": "https://localhost:8080/",
          "height": 51
        }
      },
      "source": [
        "### 予測用のテストデータ(検証データ)を作る\n",
        "test_data = [ [0,0],[1,0],[0,1],[1,1] ]\n",
        "# モデルにテストデータを回答させる　(予想)　予想のメソッドはpredict\n",
        "test_label = clf.predict (test_data)\n",
        "print(test_data, \"の予測結果\",test_label)\n",
        "#結果の精度を表示させる\n",
        "print(\"正解率 =\", accuracy_score([0,0,0,1],test_label))"
      ],
      "execution_count": 5,
      "outputs": [
        {
          "output_type": "stream",
          "text": [
            "[[0, 0], [1, 0], [0, 1], [1, 1]] の予測結果 [0 0 0 1]\n",
            "正解率 = 1.0\n"
          ],
          "name": "stdout"
        }
      ]
    },
    {
      "cell_type": "markdown",
      "metadata": {
        "id": "XN1x_H1PwC_u"
      },
      "source": [
        "### XOR演算を実装する"
      ]
    },
    {
      "cell_type": "code",
      "metadata": {
        "id": "LaS2Mluiui16"
      },
      "source": [
        "# XOR演算を学習するためのデータを用意する\n",
        "# X, Yの順\n",
        "learn_data =[[0,0],[1,0],[0,1],[1,1]]\n",
        "# X xor Y の結果正解データ　(学習ラベル)\n",
        "learn_label =[0,1,1,0]"
      ],
      "execution_count": 6,
      "outputs": []
    },
    {
      "cell_type": "code",
      "metadata": {
        "id": "7jEc9keNwb3y",
        "outputId": "f88ee06a-18d4-493e-c4b7-a9306b189f07",
        "colab": {
          "base_uri": "https://localhost:8080/",
          "height": 85
        }
      },
      "source": [
        "#学習モデルのインスタンスを作る　(LinearSVC)\n",
        "clf = LinearSVC()\n",
        "# 学習させる\n",
        "clf.fit(learn_data,learn_label)\n"
      ],
      "execution_count": 7,
      "outputs": [
        {
          "output_type": "execute_result",
          "data": {
            "text/plain": [
              "LinearSVC(C=1.0, class_weight=None, dual=True, fit_intercept=True,\n",
              "          intercept_scaling=1, loss='squared_hinge', max_iter=1000,\n",
              "          multi_class='ovr', penalty='l2', random_state=None, tol=0.0001,\n",
              "          verbose=0)"
            ]
          },
          "metadata": {
            "tags": []
          },
          "execution_count": 7
        }
      ]
    },
    {
      "cell_type": "code",
      "metadata": {
        "id": "M94liw80xphL"
      },
      "source": [
        "#学習モデルに推論させる\n",
        "test_data =[[0,0],[1,0],[0,1],[1,1]]\n",
        "test_label =clf.predict(test_data)\n"
      ],
      "execution_count": 8,
      "outputs": []
    },
    {
      "cell_type": "code",
      "metadata": {
        "id": "tELL6IIuyK0h",
        "outputId": "e44e40ed-5454-4a90-9268-f0c06bc4e3e2",
        "colab": {
          "base_uri": "https://localhost:8080/",
          "height": 51
        }
      },
      "source": [
        "#結果を検証する\n",
        "print(test_data, \"の予測結果\",test_label)\n",
        "print(\"正解率＝\",accuracy_score([0,1,1,0],test_label))"
      ],
      "execution_count": 9,
      "outputs": [
        {
          "output_type": "stream",
          "text": [
            "[[0, 0], [1, 0], [0, 1], [1, 1]] の予測結果 [1 1 1 1]\n",
            "正解率＝ 0.5\n"
          ],
          "name": "stdout"
        }
      ]
    },
    {
      "cell_type": "code",
      "metadata": {
        "id": "v7PRk0cIywKU"
      },
      "source": [
        ""
      ],
      "execution_count": 9,
      "outputs": []
    },
    {
      "cell_type": "markdown",
      "metadata": {
        "id": "Jd7vIKq9Ehq_"
      },
      "source": [
        "## k近傍法でXOR演算を実装する"
      ]
    },
    {
      "cell_type": "code",
      "metadata": {
        "id": "BTD3WFfcEot6"
      },
      "source": [
        "# k近傍法のアルゴリズムのクラスをimport\n",
        "from sklearn.neighbors import KNeighborsClassifier\n"
      ],
      "execution_count": 11,
      "outputs": []
    },
    {
      "cell_type": "code",
      "metadata": {
        "id": "YLEv2Z4HFR-c"
      },
      "source": [
        " #学習モデルの変数clfをk近傍法アルゴリズムのインスタンスで上書き\n",
        " clf =KNeighborsClassifier(n_neighbors=1)\n",
        " "
      ],
      "execution_count": 13,
      "outputs": []
    },
    {
      "cell_type": "code",
      "metadata": {
        "id": "168eBd-RFmi_",
        "outputId": "3686dce4-65d7-45c2-f424-16dc201d1eb7",
        "colab": {
          "base_uri": "https://localhost:8080/",
          "height": 68
        }
      },
      "source": [
        "#学習入力データ(learn_data)と検証用正解データ(learn_label)を使って学習\n",
        "clf.fit(learn_data,learn_label)"
      ],
      "execution_count": 14,
      "outputs": [
        {
          "output_type": "execute_result",
          "data": {
            "text/plain": [
              "KNeighborsClassifier(algorithm='auto', leaf_size=30, metric='minkowski',\n",
              "                     metric_params=None, n_jobs=None, n_neighbors=1, p=2,\n",
              "                     weights='uniform')"
            ]
          },
          "metadata": {
            "tags": []
          },
          "execution_count": 14
        }
      ]
    },
    {
      "cell_type": "code",
      "metadata": {
        "id": "jw9dpobpGb1b"
      },
      "source": [
        ""
      ],
      "execution_count": null,
      "outputs": []
    },
    {
      "cell_type": "markdown",
      "metadata": {
        "id": "r8e1dYIlGiku"
      },
      "source": [
        "##テスト検証データで推論をする"
      ]
    },
    {
      "cell_type": "code",
      "metadata": {
        "id": "kjBI6oJpGoVP",
        "outputId": "79769a21-0a5c-4452-ea0c-2d9908eabf96",
        "colab": {
          "base_uri": "https://localhost:8080/",
          "height": 51
        }
      },
      "source": [
        "# テスト検証用データ(test_data)と答え合わせ用の正解データ([0, 1, 1, 0])\n",
        "clf.predict(test_data)\n",
        "\n",
        "#推論結果の評価\n",
        "print(test_label,\"の予測結果\",test_label)\n",
        "print(\"正解率＝\", accuracy_score([0,1,1,0],test_label))"
      ],
      "execution_count": 18,
      "outputs": [
        {
          "output_type": "stream",
          "text": [
            "[1 1 1 1] の予測結果 [1 1 1 1]\n",
            "正解率＝ 0.5\n"
          ],
          "name": "stdout"
        }
      ]
    },
    {
      "cell_type": "code",
      "metadata": {
        "id": "0F2nAPLEG2bo"
      },
      "source": [
        ""
      ],
      "execution_count": null,
      "outputs": []
    },
    {
      "cell_type": "markdown",
      "metadata": {
        "id": "oBahZFsEHGGa"
      },
      "source": [
        ""
      ]
    }
  ]
}