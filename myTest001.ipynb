{
  "nbformat": 4,
  "nbformat_minor": 0,
  "metadata": {
    "colab": {
      "name": "myTest001.ipynb",
      "provenance": [],
      "authorship_tag": "ABX9TyMPpHJwKje+m2cldvHNO0zY",
      "include_colab_link": true
    },
    "kernelspec": {
      "name": "python3",
      "display_name": "Python 3"
    }
  },
  "cells": [
    {
      "cell_type": "markdown",
      "metadata": {
        "id": "view-in-github",
        "colab_type": "text"
      },
      "source": [
        "<a href=\"https://colab.research.google.com/github/aso1801010/AI_1801010/blob/master/myTest001.ipynb\" target=\"_parent\"><img src=\"https://colab.research.google.com/assets/colab-badge.svg\" alt=\"Open In Colab\"/></a>"
      ]
    },
    {
      "cell_type": "code",
      "metadata": {
        "id": "qmySmm7EXsSz",
        "colab_type": "code",
        "colab": {}
      },
      "source": [
        ""
      ],
      "execution_count": 5,
      "outputs": []
    },
    {
      "cell_type": "markdown",
      "metadata": {
        "id": "vPQStlZEYN_j",
        "colab_type": "text"
      },
      "source": [
        "### 最初のテスト"
      ]
    },
    {
      "cell_type": "code",
      "metadata": {
        "id": "GBP-TyjOYwFG",
        "colab_type": "code",
        "colab": {
          "base_uri": "https://localhost:8080/",
          "height": 34
        },
        "outputId": "2143e556-43d0-4260-ba2e-ae088a755486"
      },
      "source": [
        " 10 * 10"
      ],
      "execution_count": 3,
      "outputs": [
        {
          "output_type": "execute_result",
          "data": {
            "text/plain": [
              "100"
            ]
          },
          "metadata": {
            "tags": []
          },
          "execution_count": 3
        }
      ]
    },
    {
      "cell_type": "markdown",
      "metadata": {
        "id": "jlri6LhoZWUc",
        "colab_type": "text"
      },
      "source": [
        " - ２度目のテスト\n"
      ]
    },
    {
      "cell_type": "code",
      "metadata": {
        "id": "AFE0Qt_BZfzQ",
        "colab_type": "code",
        "colab": {
          "base_uri": "https://localhost:8080/",
          "height": 34
        },
        "outputId": "34a0cb5e-04bc-4785-fa38-b6e607ee569c"
      },
      "source": [
        " 8 * 8\n"
      ],
      "execution_count": 4,
      "outputs": [
        {
          "output_type": "execute_result",
          "data": {
            "text/plain": [
              "64"
            ]
          },
          "metadata": {
            "tags": []
          },
          "execution_count": 4
        }
      ]
    },
    {
      "cell_type": "markdown",
      "metadata": {
        "id": "5qe5CNGscBNM",
        "colab_type": "text"
      },
      "source": [
        "###ファイルをアップロード"
      ]
    },
    {
      "cell_type": "code",
      "metadata": {
        "id": "gZXqulsAcD0j",
        "colab_type": "code",
        "colab": {}
      },
      "source": [
        ""
      ],
      "execution_count": null,
      "outputs": []
    }
  ]
}